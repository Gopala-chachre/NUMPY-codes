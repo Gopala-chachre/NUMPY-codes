{
 "cells": [
  {
   "cell_type": "markdown",
   "id": "5a38cd6b",
   "metadata": {},
   "source": [
    "## Numpy array operations"
   ]
  },
  {
   "cell_type": "code",
   "execution_count": 2,
   "id": "7562e50d",
   "metadata": {},
   "outputs": [],
   "source": [
    "import numpy as np"
   ]
  },
  {
   "cell_type": "markdown",
   "id": "827ae4da",
   "metadata": {},
   "source": [
    "### Slicing"
   ]
  },
  {
   "cell_type": "code",
   "execution_count": null,
   "id": "049a7810",
   "metadata": {},
   "outputs": [
    {
     "name": "stdout",
     "output_type": "stream",
     "text": [
      "Basic Slicing: [2 3 4 5 6]\n",
      "With step: [2 4 6]\n",
      "Negative indexing: 7\n"
     ]
    }
   ],
   "source": [
    "arr = np.arange(10)\n",
    "\n",
    "print(\"Basic Slicing:\", arr[2:7])\n",
    "print(\"With step:\", arr[2:7:2])\n",
    "print(\"Negative indexing:\", arr[-3])"
   ]
  },
  {
   "cell_type": "markdown",
   "id": "774caa6b",
   "metadata": {},
   "source": [
    "### Indexing And Slicing on 2d array"
   ]
  },
  {
   "cell_type": "code",
   "execution_count": 13,
   "id": "99999e10",
   "metadata": {},
   "outputs": [
    {
     "name": "stdout",
     "output_type": "stream",
     "text": [
      "Specific Element: 6\n",
      "Entire row: [4 5 6]\n",
      "Entire colum: [2 5]\n"
     ]
    }
   ],
   "source": [
    "arr_2d = np.array([[1,2,3],\n",
    "                   [4,5,6]])\n",
    "\n",
    "print(\"Specific Element:\", arr_2d[1,2]) #[row , colum]\n",
    "print(\"Entire row:\", arr_2d[1]) #print complete row\n",
    "print(\"Entire colum:\", arr_2d[:,1])"
   ]
  },
  {
   "cell_type": "markdown",
   "id": "3d8c1dcc",
   "metadata": {},
   "source": [
    "## Sorting"
   ]
  },
  {
   "cell_type": "code",
   "execution_count": 19,
   "id": "9b6a3b71",
   "metadata": {},
   "outputs": [
    {
     "name": "stdout",
     "output_type": "stream",
     "text": [
      "Sorted array: [ 3  3  3  4  5  5  6  7  8  9 79]\n",
      "Sorted 2d array by colum:\n",
      " [[3 1 1]\n",
      " [6 2 2]\n",
      " [7 5 3]]\n",
      "Sorted 2d array by row:\n",
      " [[1 3 5]\n",
      " [1 2 6]\n",
      " [2 3 7]]\n"
     ]
    }
   ],
   "source": [
    "unshorted = np.array([6,4,5,8,3,79,5,3,3,7,9])\n",
    "print(\"Sorted array:\", np.sort(unshorted))\n",
    "\n",
    "arr_2d_unshorted = np.array([[3,5,1],[6,1,2],[7,2,3]])\n",
    "print(\"Sorted 2d array by colum:\\n\", np.sort(arr_2d_unshorted, axis = 0)) # mainly used\n",
    "print(\"Sorted 2d array by row:\\n\", np.sort(arr_2d_unshorted, axis = 1))"
   ]
  },
  {
   "cell_type": "markdown",
   "id": "af9d3e9e",
   "metadata": {},
   "source": [
    "## Filter"
   ]
  },
  {
   "cell_type": "code",
   "execution_count": null,
   "id": "e92bee8d",
   "metadata": {},
   "outputs": [
    {
     "name": "stdout",
     "output_type": "stream",
     "text": [
      "Even Numbers: [ 2  4  6  8 10]\n",
      "Odd Numbers: [1 3 5 7 9]\n",
      "[[ 0  1  2  3]\n",
      " [ 4  5  6  7]\n",
      " [ 8  9 10 11]\n",
      " [12 13 14 15]\n",
      " [16 17 18 19]]\n",
      "[ 0  2  4  6  8 10 12 14 16 18]\n"
     ]
    }
   ],
   "source": [
    "num = np.array([1,2,3,4,5,6,7,8,9,10])\n",
    "even_num = num[num % 2 == 0] #it is an spical type of array because of numpy(is a mask)\n",
    "print(\"Even Numbers:\", even_num)\n",
    "\n",
    "odd_num = num[num % 2 != 0] #it is an spical type of array because of numpy\n",
    "print(\"Odd Numbers:\", odd_num)"
   ]
  },
  {
   "cell_type": "markdown",
   "id": "26f825be",
   "metadata": {},
   "source": [
    "### filter with mask"
   ]
  },
  {
   "cell_type": "code",
   "execution_count": 28,
   "id": "e37782c9",
   "metadata": {},
   "outputs": [
    {
     "name": "stdout",
     "output_type": "stream",
     "text": [
      "Numbers greater then 5: [ 6  7  8  9 10]\n"
     ]
    }
   ],
   "source": [
    "# only in numpy we use this type of syntex\n",
    "mask = num > 5 #the mask will store the whole expretion in it\n",
    "print(\"Numbers greater then 5:\", num[mask])"
   ]
  },
  {
   "cell_type": "markdown",
   "id": "8fc37219",
   "metadata": {},
   "source": [
    "### Fancy indexing vs np.where()"
   ]
  },
  {
   "cell_type": "code",
   "execution_count": 34,
   "id": "e524e849",
   "metadata": {},
   "outputs": [
    {
     "name": "stdout",
     "output_type": "stream",
     "text": [
      "[1 3 5]\n",
      "(array([5, 6, 7, 8, 9]),)\n",
      "NP where [ 6  7  8  9 10]\n"
     ]
    }
   ],
   "source": [
    "indices = [0,2,4]# using multi indices\n",
    "print(num[indices])\n",
    "\n",
    "where_re = np.where(num > 5)\n",
    "print(where_re)# it stores the indices\n",
    "print(\"NP where\", num[where_re])"
   ]
  },
  {
   "cell_type": "code",
   "execution_count": null,
   "id": "02eb03f8",
   "metadata": {},
   "outputs": [
    {
     "name": "stdout",
     "output_type": "stream",
     "text": [
      "[ 1  2  3  4  5 12 14 16 18 20]\n"
     ]
    }
   ],
   "source": [
    "condition_array = np.where(num > 5, num*2 , num) # search more about it!!!\n",
    "# condition_array = np.where(num > 5, \"true\" , \"false\")\n",
    "print(condition_array)\n",
    "\n",
    "# For better understand we can do it like it\n",
    "# if(num > 5){[     condition]\n",
    "#     num*2         [true]\n",
    "# }else{\n",
    "#     num           [false]\n",
    "# }"
   ]
  },
  {
   "cell_type": "markdown",
   "id": "9a1764aa",
   "metadata": {},
   "source": [
    "### Adding and Removing Data"
   ]
  },
  {
   "cell_type": "code",
   "execution_count": null,
   "id": "ef82515e",
   "metadata": {},
   "outputs": [
    {
     "name": "stdout",
     "output_type": "stream",
     "text": [
      "[1 2 3 4 5 6]\n"
     ]
    }
   ],
   "source": [
    "arr1 = np.array([1,2,3])\n",
    "arr2 = np.array([4,5,6])\n",
    "\n",
    "#combined = arr1 + arr2 #it will add the element of the arrrays but we want to concatenate it: Output->[5,7,9]\n",
    "combined = np.concatenate((arr1,arr2))\n",
    "print(combined)"
   ]
  }
 ],
 "metadata": {
  "kernelspec": {
   "display_name": "Python 3",
   "language": "python",
   "name": "python3"
  },
  "language_info": {
   "codemirror_mode": {
    "name": "ipython",
    "version": 3
   },
   "file_extension": ".py",
   "mimetype": "text/x-python",
   "name": "python",
   "nbconvert_exporter": "python",
   "pygments_lexer": "ipython3",
   "version": "3.13.7"
  }
 },
 "nbformat": 4,
 "nbformat_minor": 5
}

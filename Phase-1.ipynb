{
 "cells": [
  {
   "cell_type": "markdown",
   "id": "ea7e7620",
   "metadata": {},
   "source": [
    "## Numpy array & Basics"
   ]
  },
  {
   "cell_type": "code",
   "execution_count": null,
   "id": "a1bf8afb",
   "metadata": {},
   "outputs": [],
   "source": [
    "import numpy as np"
   ]
  },
  {
   "cell_type": "markdown",
   "id": "44c295d9",
   "metadata": {},
   "source": [
    "### Creating Array from list"
   ]
  },
  {
   "cell_type": "code",
   "execution_count": 2,
   "id": "670a078e",
   "metadata": {},
   "outputs": [
    {
     "name": "stdout",
     "output_type": "stream",
     "text": [
      "1d array : [1 2 3 4 5]\n",
      "2d array : [[1 2 3]\n",
      " [4 5 6]]\n"
     ]
    }
   ],
   "source": [
    "arr_1d = np.array([1,2,3,4,5])\n",
    "print(\"1d array :\",arr_1d)\n",
    "\n",
    "arr_2d = np.array([[1,2,3],[4,5,6]])\n",
    "print(\"2d array :\",arr_2d)"
   ]
  },
  {
   "cell_type": "markdown",
   "id": "1f43bae3",
   "metadata": {},
   "source": [
    "### List vs Numpy arrays"
   ]
  },
  {
   "cell_type": "code",
   "execution_count": 3,
   "id": "9e8700d2",
   "metadata": {},
   "outputs": [
    {
     "name": "stdout",
     "output_type": "stream",
     "text": [
      "Python list Multiplication: [1, 2, 3, 4, 5, 1, 2, 3, 4, 5]\n",
      "Python array Multiplication: [ 2  4  6  8 10]\n",
      "\n",
      "List operation time: 0.13758158683776855\n",
      "\n",
      "Numpy operation time: 0.01796889305114746\n"
     ]
    }
   ],
   "source": [
    "py_list = [1,2,3,4,5]\n",
    "print(\"Python list Multiplication:\",py_list*2)\n",
    "\n",
    "np_array = np.array([1,2,3,4,5]) #element wise Multiplication\n",
    "print(\"Python array Multiplication:\",np_array*2)\n",
    "\n",
    "import time\n",
    "start = time.time()\n",
    "py_list = [i*2 for i in range(1000000)]\n",
    "print(\"\\nList operation time:\", time.time() - start)\n",
    "\n",
    "start = time.time()\n",
    "np_array = np.arange(1000000)*2\n",
    "print(\"\\nNumpy operation time:\", time.time() - start)"
   ]
  },
  {
   "cell_type": "markdown",
   "id": "f7b337cf",
   "metadata": {},
   "source": [
    "### Creating array from scratch"
   ]
  },
  {
   "cell_type": "code",
   "execution_count": 7,
   "id": "642c2901",
   "metadata": {},
   "outputs": [
    {
     "name": "stdout",
     "output_type": "stream",
     "text": [
      "Zeros Array:\n",
      " [[0. 0. 0. 0.]\n",
      " [0. 0. 0. 0.]\n",
      " [0. 0. 0. 0.]]\n",
      "Ones Array:\n",
      " [[1. 1.]\n",
      " [1. 1.]]\n",
      "Full Array:\n",
      " [[5 5]\n",
      " [5 5]\n",
      " [5 5]]\n",
      "Random Array:\n",
      " [[0.18020158 0.36498354 0.80961884]\n",
      " [0.50176143 0.27030514 0.98519185]]\n",
      "Sequence Array:\n",
      " [0 1 2 3 4 5 6 7 8 9]\n"
     ]
    }
   ],
   "source": [
    "#array or matrix of zeros\n",
    "zeros = np.zeros((3,4))\n",
    "print(\"Zeros Array:\\n\", zeros)\n",
    "\n",
    "#array or matrix of Ones\n",
    "ones = np.ones((2,2))\n",
    "print(\"Ones Array:\\n\", ones)\n",
    "\n",
    "#array or matrix of spical const\n",
    "full = np.full((3,2), 5)\n",
    "print(\"Full Array:\\n\", full)\n",
    "\n",
    "#array or matrix of random numbers\n",
    "randam = np.random.random((2,3)) #the values allways in between 0 to 1\n",
    "print(\"Random Array:\\n\", randam)\n",
    "\n",
    "#array or matrix of sequence of number\n",
    "sequence = np.arange(0,10) #start,stop,step(default 1)\n",
    "print(\"Sequence Array:\\n\", sequence)"
   ]
  },
  {
   "cell_type": "markdown",
   "id": "55f9cec0",
   "metadata": {},
   "source": [
    "### Vector, Matrix & Tensor"
   ]
  },
  {
   "cell_type": "code",
   "execution_count": 10,
   "id": "c3dbefaf",
   "metadata": {},
   "outputs": [
    {
     "name": "stdout",
     "output_type": "stream",
     "text": [
      "Vector:\n",
      " [1 2 3 4 5]\n",
      "Matrix:\n",
      " [[1 2 3]\n",
      " [4 5 6]]\n",
      "Tensor:\n",
      " [[[1 2 3]\n",
      "  [4 5 6]]\n",
      "\n",
      " [[7 8 9]\n",
      "  [0 1 2]]]\n"
     ]
    }
   ],
   "source": [
    "#1d array\n",
    "vector = np.array([1,2,3,4,5])\n",
    "print(\"Vector:\\n\", vector)\n",
    "\n",
    "#2d array\n",
    "matrix = np.array([[1,2,3],\n",
    "                   [4,5,6]])\n",
    "print(\"Matrix:\\n\", matrix)\n",
    "\n",
    "#more then 2d are known as tensor\n",
    "tensor = np.array([[[1,2,3],[4,5,6]],\n",
    "                   [[7,8,9],[0,1,2]]])\n",
    "print(\"Tensor:\\n\", tensor)"
   ]
  },
  {
   "cell_type": "markdown",
   "id": "5a3ae9e1",
   "metadata": {},
   "source": [
    "### Properties of Array"
   ]
  },
  {
   "cell_type": "code",
   "execution_count": 16,
   "id": "7af2dc0f",
   "metadata": {},
   "outputs": [
    {
     "name": "stdout",
     "output_type": "stream",
     "text": [
      "Shape of Arr (2, 3)\n",
      "Dimension of Arr 2\n",
      "Size of Arr 6\n",
      "\n",
      "Data type of Arr int64\n",
      "Data type of Arr1 int64\n",
      "Data type of Arr2 float64\n",
      "Data type of Arr3 <U21\n"
     ]
    }
   ],
   "source": [
    "arr = np.array([[1,2,3],\n",
    "                [4,5,6]]) #you can even store different datatypes but it is now ideal in numpy\n",
    "\n",
    "arr1 = np.array([[1,2,3],\n",
    "                [4,5,True]]) \n",
    "\n",
    "arr2 = np.array([[1,2,3],\n",
    "                [4,5,3.14]]) \n",
    "\n",
    "arr3 = np.array([[1,2,3],\n",
    "                [4,5,\"3.14\"]]) \n",
    "\n",
    "print(\"Shape of Arr\", arr.shape)\n",
    "print(\"Dimension of Arr\", arr.ndim)\n",
    "print(\"Size of Arr\", arr.size)\n",
    "\n",
    "print(\"\\nData type of Arr\", arr.dtype)\n",
    "print(\"Data type of Arr1\", arr1.dtype)\n",
    "print(\"Data type of Arr2\", arr2.dtype)\n",
    "print(\"Data type of Arr3\", arr3.dtype)"
   ]
  },
  {
   "cell_type": "markdown",
   "id": "ae1cca2e",
   "metadata": {},
   "source": [
    "### Array reshapeing"
   ]
  },
  {
   "cell_type": "code",
   "execution_count": 23,
   "id": "c56eb6a0",
   "metadata": {},
   "outputs": [
    {
     "name": "stdout",
     "output_type": "stream",
     "text": [
      "\n",
      "Orignal Array:\n",
      " [ 0  1  2  3  4  5  6  7  8  9 10 11 12 13 14 15 16 17 18 19]\n",
      "\n",
      "Reshaped Array:\n",
      " [[ 0  1  2  3]\n",
      " [ 4  5  6  7]\n",
      " [ 8  9 10 11]\n",
      " [12 13 14 15]\n",
      " [16 17 18 19]]\n",
      "\n",
      "flattened Array:\n",
      " [ 0  1  2  3  4  5  6  7  8  9 10 11 12 13 14 15 16 17 18 19]\n",
      "\n",
      "raveled Array:\n",
      " [ 0  1  2  3  4  5  6  7  8  9 10 11 12 13 14 15 16 17 18 19]\n",
      "\n",
      "Transpose Array:\n",
      " [[ 0  4  8 12 16]\n",
      " [ 1  5  9 13 17]\n",
      " [ 2  6 10 14 18]\n",
      " [ 3  7 11 15 19]]\n"
     ]
    }
   ],
   "source": [
    "arr = np.arange(20)\n",
    "print(\"\\nOrignal Array:\\n\", arr)\n",
    "\n",
    "#reshape the array means converting it into 2do or more \n",
    "#or even you can change the Dimension of matrix\n",
    "reshape = arr.reshape((5,4))\n",
    "print(\"\\nReshaped Array:\\n\", reshape)\n",
    "\n",
    "#to convert the martix into an array or called \"flattend\"\n",
    "flattened = reshape.flatten()\n",
    "print(\"\\nflattened Array:\\n\", flattened)\n",
    "\n",
    "# raveled(returns view, instand of copy)\n",
    "raveled = reshape.ravel()\n",
    "print(\"\\nraveled Array:\\n\", raveled)\n",
    "\n",
    "#Transpose\n",
    "transpose = reshape.T\n",
    "print(\"\\nTranspose Array:\\n\", transpose)"
   ]
  }
 ],
 "metadata": {
  "kernelspec": {
   "display_name": "Python 3",
   "language": "python",
   "name": "python3"
  },
  "language_info": {
   "codemirror_mode": {
    "name": "ipython",
    "version": 3
   },
   "file_extension": ".py",
   "mimetype": "text/x-python",
   "name": "python",
   "nbconvert_exporter": "python",
   "pygments_lexer": "ipython3",
   "version": "3.13.7"
  }
 },
 "nbformat": 4,
 "nbformat_minor": 5
}

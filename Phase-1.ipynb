{
 "cells": [
  {
   "cell_type": "markdown",
   "id": "ea7e7620",
   "metadata": {},
   "source": [
    "## Numpy array & Basics"
   ]
  },
  {
   "cell_type": "code",
   "execution_count": 3,
   "id": "a1bf8afb",
   "metadata": {},
   "outputs": [],
   "source": [
    "import numpy as np"
   ]
  },
  {
   "cell_type": "markdown",
   "id": "44c295d9",
   "metadata": {},
   "source": [
    "### Creating Array from list"
   ]
  },
  {
   "cell_type": "code",
   "execution_count": 5,
   "id": "670a078e",
   "metadata": {},
   "outputs": [
    {
     "name": "stdout",
     "output_type": "stream",
     "text": [
      "1d array : [1 2 3 4 5]\n",
      "2d array : [[1 2 3]\n",
      " [4 5 6]]\n"
     ]
    }
   ],
   "source": [
    "arr_1d = np.array([1,2,3,4,5])\n",
    "print(\"1d array :\",arr_1d)\n",
    "\n",
    "arr_2d = np.array([[1,2,3],[4,5,6]])\n",
    "print(\"2d array :\",arr_2d)"
   ]
  },
  {
   "cell_type": "markdown",
   "id": "1f43bae3",
   "metadata": {},
   "source": [
    "### List vs Numpy arrays"
   ]
  },
  {
   "cell_type": "code",
   "execution_count": 11,
   "id": "9e8700d2",
   "metadata": {},
   "outputs": [
    {
     "name": "stdout",
     "output_type": "stream",
     "text": [
      "Python list Multiplication: [1, 2, 3, 4, 5, 1, 2, 3, 4, 5]\n",
      "Python array Multiplication: [ 2  4  6  8 10]\n",
      "\n",
      "List operation time: 0.04847979545593262\n",
      "\n",
      "Numpy operation time: 0.007467746734619141\n"
     ]
    }
   ],
   "source": [
    "py_list = [1,2,3,4,5]\n",
    "print(\"Python list Multiplication:\",py_list*2)\n",
    "\n",
    "np_array = np.array([1,2,3,4,5]) #element wise Multiplication\n",
    "print(\"Python array Multiplication:\",np_array*2)\n",
    "\n",
    "import time\n",
    "start = time.time()\n",
    "py_list = [i*2 for i in range(1000000)]\n",
    "print(\"\\nList operation time:\", time.time() - start)\n",
    "\n",
    "start = time.time()\n",
    "np_array = np.arange(1000000)*2\n",
    "print(\"\\nNumpy operation time:\", time.time() - start)"
   ]
  }
 ],
 "metadata": {
  "kernelspec": {
   "display_name": "Python 3",
   "language": "python",
   "name": "python3"
  },
  "language_info": {
   "codemirror_mode": {
    "name": "ipython",
    "version": 3
   },
   "file_extension": ".py",
   "mimetype": "text/x-python",
   "name": "python",
   "nbconvert_exporter": "python",
   "pygments_lexer": "ipython3",
   "version": "3.13.7"
  }
 },
 "nbformat": 4,
 "nbformat_minor": 5
}

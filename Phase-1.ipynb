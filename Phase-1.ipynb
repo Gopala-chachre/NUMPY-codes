{
 "cells": [
  {
   "cell_type": "markdown",
   "id": "ea7e7620",
   "metadata": {},
   "source": [
    "## Numpy array & Basics"
   ]
  },
  {
   "cell_type": "code",
   "execution_count": 4,
   "id": "a1bf8afb",
   "metadata": {},
   "outputs": [],
   "source": [
    "import numpy as np"
   ]
  },
  {
   "cell_type": "markdown",
   "id": "44c295d9",
   "metadata": {},
   "source": [
    "### Creating Array from list"
   ]
  },
  {
   "cell_type": "code",
   "execution_count": 5,
   "id": "670a078e",
   "metadata": {},
   "outputs": [
    {
     "name": "stdout",
     "output_type": "stream",
     "text": [
      "1d array : [1 2 3 4 5]\n",
      "2d array : [[1 2 3]\n",
      " [4 5 6]]\n"
     ]
    }
   ],
   "source": [
    "arr_1d = np.array([1,2,3,4,5])\n",
    "print(\"1d array :\",arr_1d)\n",
    "\n",
    "arr_2d = np.array([[1,2,3],[4,5,6]])\n",
    "print(\"2d array :\",arr_2d)"
   ]
  },
  {
   "cell_type": "markdown",
   "id": "1f43bae3",
   "metadata": {},
   "source": [
    "### List vs Numpy arrays"
   ]
  },
  {
   "cell_type": "code",
   "execution_count": 7,
   "id": "9e8700d2",
   "metadata": {},
   "outputs": [
    {
     "name": "stdout",
     "output_type": "stream",
     "text": [
      "Python list Multiplication: [1, 2, 3, 4, 5, 1, 2, 3, 4, 5]\n",
      "Python array Multiplication: [ 2  4  6  8 10]\n",
      "\n",
      "List operation time: 0.08727121353149414\n",
      "\n",
      "Numpy operation time: 0.0059893131256103516\n"
     ]
    }
   ],
   "source": [
    "py_list = [1,2,3,4,5]\n",
    "print(\"Python list Multiplication:\",py_list*2)\n",
    "\n",
    "np_array = np.array([1,2,3,4,5]) #element wise Multiplication\n",
    "print(\"Python array Multiplication:\",np_array*2)\n",
    "\n",
    "import time\n",
    "start = time.time()\n",
    "py_list = [i*2 for i in range(1000000)]\n",
    "print(\"\\nList operation time:\", time.time() - start)\n",
    "\n",
    "start = time.time()\n",
    "np_array = np.arange(1000000)*2\n",
    "print(\"\\nNumpy operation time:\", time.time() - start)"
   ]
  },
  {
   "cell_type": "markdown",
   "id": "f7b337cf",
   "metadata": {},
   "source": [
    "### Creating array from scratch"
   ]
  },
  {
   "cell_type": "code",
   "execution_count": null,
   "id": "642c2901",
   "metadata": {},
   "outputs": [
    {
     "name": "stdout",
     "output_type": "stream",
     "text": [
      "Zeros Array:\n",
      " [[0. 0. 0. 0.]\n",
      " [0. 0. 0. 0.]\n",
      " [0. 0. 0. 0.]]\n",
      "Ones Array:\n",
      " [[1. 1.]\n",
      " [1. 1.]]\n",
      "Full Array:\n",
      " [[7 7]\n",
      " [7 7]\n",
      " [7 7]]\n",
      "Random Array:\n",
      " [[0.51268319 0.92249181 0.09181842]\n",
      " [0.02342996 0.84242127 0.31723353]]\n",
      "Sequence Array:\n",
      " [0 1 2 3 4 5 6 7 8 9]\n"
     ]
    }
   ],
   "source": [
    "#array or matrix of zeros\n",
    "zeros = np.zeros((3,4))\n",
    "print(\"Zeros Array:\\n\", zeros)\n",
    "\n",
    "#array or matrix of Ones\n",
    "ones = np.ones((2,2))\n",
    "print(\"Ones Array:\\n\", ones)\n",
    "\n",
    "#array or matrix of spical const\n",
    "full = np.full((3,2), 7)\n",
    "print(\"Full Array:\\n\", full)\n",
    "\n",
    "#array or matrix of random numbers\n",
    "randam = np.random.random((2,3)) #the values allways in between 0 to 1\n",
    "print(\"Random Array:\\n\", randam)\n",
    "\n",
    "#array or matrix of sequence of number\n",
    "sequence = np.arange(0,10) #start,stop,step(default 1)\n",
    "print(\"Sequence Array:\\n\", sequence)"
   ]
  }
 ],
 "metadata": {
  "kernelspec": {
   "display_name": "Python 3",
   "language": "python",
   "name": "python3"
  },
  "language_info": {
   "codemirror_mode": {
    "name": "ipython",
    "version": 3
   },
   "file_extension": ".py",
   "mimetype": "text/x-python",
   "name": "python",
   "nbconvert_exporter": "python",
   "pygments_lexer": "ipython3",
   "version": "3.13.7"
  }
 },
 "nbformat": 4,
 "nbformat_minor": 5
}
